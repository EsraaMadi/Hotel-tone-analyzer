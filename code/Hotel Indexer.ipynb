{
 "cells": [
  {
   "cell_type": "markdown",
   "metadata": {},
   "source": [
    "# Hotel Indexer:\n",
    "_Auther: Esraa Madi_\n",
    "\n",
    "\n",
    "-------"
   ]
  },
  {
   "cell_type": "markdown",
   "metadata": {},
   "source": [
    "### Overview\n",
    "\n",
    "When you are running a website that provides lots of dynamic content; be it an e-commerce website or a blog. You need not only provide a robust search engine for your web app but you need also provide native auto-complete features in your app. that is what ElasticSearch could provide for our website.\n",
    "\n",
    "---"
   ]
  },
  {
   "cell_type": "markdown",
   "metadata": {},
   "source": [
    "**Elasticsearch** is a real-time distributed search and analytics engine. It allows you to explore your data at a speed and at a scale never before possible. It is used for full text search, structured search, analytics and all three in combination. Elastic search is an open source search engine built on top of Apache Lucecne, a full text search engine library."
   ]
  },
  {
   "cell_type": "markdown",
   "metadata": {},
   "source": [
    "---"
   ]
  },
  {
   "cell_type": "markdown",
   "metadata": {},
   "source": [
    "### How Hotel Indexer Service Works?\n",
    "- When you hit this endpoint it should use ElasticSearch to index all data found in dataset for each hotel\n",
    "- Each hotel MUST have ONLY one document with all its data.\n",
    "\n",
    "---"
   ]
  },
  {
   "cell_type": "markdown",
   "metadata": {},
   "source": [
    "### Datasets\n",
    "\n",
    "The dataset used in this service is the raw data taken from this [Kaggle dataset](https://www.kaggle.com/datafiniti/hotel-reviews#7282_1.csv) **plus** the data obtained from Watson lib [dataset]()\n",
    "\n",
    "This dataset is a list of about 1,000 hotels and 30,000 reviews. The dataset includes hotel location, name, rating, review data, title, username, and more.\n",
    "\n",
    "For more information about dataset columns, you can check this [data dictionary](https://developer.datafiniti.co/docs/business-data-schema)"
   ]
  },
  {
   "cell_type": "markdown",
   "metadata": {},
   "source": [
    "----"
   ]
  },
  {
   "cell_type": "markdown",
   "metadata": {},
   "source": [
    "#### Installing and running Elasticsearch:\n",
    "\n",
    "To get started with Elasticsearch, I found [this link](https://www.elastic.co/downloads/elasticsearch) is very helpful."
   ]
  },
  {
   "cell_type": "code",
   "execution_count": null,
   "metadata": {},
   "outputs": [],
   "source": [
    "#!pip install elasticsearch"
   ]
  },
  {
   "cell_type": "markdown",
   "metadata": {},
   "source": [
    "#### Let's start :)"
   ]
  },
  {
   "cell_type": "code",
   "execution_count": 16,
   "metadata": {},
   "outputs": [],
   "source": [
    "# import libraries\n",
    "import pandas as pd\n",
    "import pickle"
   ]
  },
  {
   "cell_type": "code",
   "execution_count": 4,
   "metadata": {},
   "outputs": [],
   "source": [
    "# Read the dataset\n",
    "hotel_data = pd.read_csv('../data/processed_data/hotel_review_text_tone.csv', index_col=0)"
   ]
  },
  {
   "cell_type": "code",
   "execution_count": 5,
   "metadata": {
    "scrolled": true
   },
   "outputs": [
    {
     "data": {
      "text/html": [
       "<div>\n",
       "<style scoped>\n",
       "    .dataframe tbody tr th:only-of-type {\n",
       "        vertical-align: middle;\n",
       "    }\n",
       "\n",
       "    .dataframe tbody tr th {\n",
       "        vertical-align: top;\n",
       "    }\n",
       "\n",
       "    .dataframe thead th {\n",
       "        text-align: right;\n",
       "    }\n",
       "</style>\n",
       "<table border=\"1\" class=\"dataframe\">\n",
       "  <thead>\n",
       "    <tr style=\"text-align: right;\">\n",
       "      <th></th>\n",
       "      <th>address</th>\n",
       "      <th>categories</th>\n",
       "      <th>city</th>\n",
       "      <th>country</th>\n",
       "      <th>latitude</th>\n",
       "      <th>longitude</th>\n",
       "      <th>name</th>\n",
       "      <th>postalCode</th>\n",
       "      <th>province</th>\n",
       "      <th>reviews_date</th>\n",
       "      <th>...</th>\n",
       "      <th>review_analytical</th>\n",
       "      <th>review_confident</th>\n",
       "      <th>review_tentative</th>\n",
       "      <th>review_title_anger</th>\n",
       "      <th>review_title_fear</th>\n",
       "      <th>review_title_joy</th>\n",
       "      <th>review_title_sadness</th>\n",
       "      <th>review_title_analytical</th>\n",
       "      <th>review_title_confident</th>\n",
       "      <th>review_title_tentative</th>\n",
       "    </tr>\n",
       "  </thead>\n",
       "  <tbody>\n",
       "    <tr>\n",
       "      <th>0</th>\n",
       "      <td>Riviera San Nicol 11/a</td>\n",
       "      <td>Hotels</td>\n",
       "      <td>Mableton</td>\n",
       "      <td>US</td>\n",
       "      <td>45.421611</td>\n",
       "      <td>12.376187</td>\n",
       "      <td>Hotel Russo Palace</td>\n",
       "      <td>30126</td>\n",
       "      <td>GA</td>\n",
       "      <td>2013-09-22T00:00:00Z</td>\n",
       "      <td>...</td>\n",
       "      <td>0.000000</td>\n",
       "      <td>0.000000</td>\n",
       "      <td>0.833496</td>\n",
       "      <td>0.0</td>\n",
       "      <td>0.0</td>\n",
       "      <td>0.000000</td>\n",
       "      <td>0.0</td>\n",
       "      <td>0.0</td>\n",
       "      <td>0.0</td>\n",
       "      <td>0.0</td>\n",
       "    </tr>\n",
       "    <tr>\n",
       "      <th>1</th>\n",
       "      <td>Riviera San Nicol 11/a</td>\n",
       "      <td>Hotels</td>\n",
       "      <td>Mableton</td>\n",
       "      <td>US</td>\n",
       "      <td>45.421611</td>\n",
       "      <td>12.376187</td>\n",
       "      <td>Hotel Russo Palace</td>\n",
       "      <td>30126</td>\n",
       "      <td>GA</td>\n",
       "      <td>2015-04-03T00:00:00Z</td>\n",
       "      <td>...</td>\n",
       "      <td>0.585508</td>\n",
       "      <td>0.808712</td>\n",
       "      <td>0.000000</td>\n",
       "      <td>0.0</td>\n",
       "      <td>0.0</td>\n",
       "      <td>0.831246</td>\n",
       "      <td>0.0</td>\n",
       "      <td>0.0</td>\n",
       "      <td>0.0</td>\n",
       "      <td>0.0</td>\n",
       "    </tr>\n",
       "  </tbody>\n",
       "</table>\n",
       "<p>2 rows × 34 columns</p>\n",
       "</div>"
      ],
      "text/plain": [
       "                  address categories      city country   latitude  longitude  \\\n",
       "0  Riviera San Nicol 11/a     Hotels  Mableton      US  45.421611  12.376187   \n",
       "1  Riviera San Nicol 11/a     Hotels  Mableton      US  45.421611  12.376187   \n",
       "\n",
       "                 name postalCode province          reviews_date  \\\n",
       "0  Hotel Russo Palace      30126       GA  2013-09-22T00:00:00Z   \n",
       "1  Hotel Russo Palace      30126       GA  2015-04-03T00:00:00Z   \n",
       "\n",
       "            ...           review_analytical  review_confident  \\\n",
       "0           ...                    0.000000          0.000000   \n",
       "1           ...                    0.585508          0.808712   \n",
       "\n",
       "   review_tentative  review_title_anger review_title_fear review_title_joy  \\\n",
       "0          0.833496                 0.0               0.0         0.000000   \n",
       "1          0.000000                 0.0               0.0         0.831246   \n",
       "\n",
       "  review_title_sadness review_title_analytical review_title_confident  \\\n",
       "0                  0.0                     0.0                    0.0   \n",
       "1                  0.0                     0.0                    0.0   \n",
       "\n",
       "   review_title_tentative  \n",
       "0                     0.0  \n",
       "1                     0.0  \n",
       "\n",
       "[2 rows x 34 columns]"
      ]
     },
     "execution_count": 5,
     "metadata": {},
     "output_type": "execute_result"
    }
   ],
   "source": [
    "# check data header\n",
    "hotel_data.head(2)"
   ]
  },
  {
   "cell_type": "code",
   "execution_count": 6,
   "metadata": {
    "scrolled": false
   },
   "outputs": [
    {
     "data": {
      "text/plain": [
       "address                        0\n",
       "categories                     0\n",
       "city                           0\n",
       "country                        0\n",
       "latitude                      82\n",
       "longitude                     82\n",
       "name                           0\n",
       "postalCode                    55\n",
       "province                       0\n",
       "reviews_date                 232\n",
       "reviews_dateAdded              0\n",
       "reviews_doRecommend        33604\n",
       "reviews_id                 33604\n",
       "reviews_rating               491\n",
       "reviews_text                   0\n",
       "reviews_title               1153\n",
       "reviews_userCity           18911\n",
       "reviews_username              41\n",
       "reviews_userProvince       17594\n",
       "is_hotel                       0\n",
       "review_anger                   0\n",
       "review_fear                    0\n",
       "review_joy                     0\n",
       "review_sadness                 0\n",
       "review_analytical              0\n",
       "review_confident               0\n",
       "review_tentative               0\n",
       "review_title_anger             0\n",
       "review_title_fear              0\n",
       "review_title_joy               0\n",
       "review_title_sadness           0\n",
       "review_title_analytical        0\n",
       "review_title_confident         0\n",
       "review_title_tentative         0\n",
       "dtype: int64"
      ]
     },
     "execution_count": 6,
     "metadata": {},
     "output_type": "execute_result"
    }
   ],
   "source": [
    "# check missing values\n",
    "hotel_data.isnull().sum()"
   ]
  },
  {
   "cell_type": "markdown",
   "metadata": {},
   "source": [
    "> Elasticsearch cannot handle the `None` type, so we need to fill all missing values."
   ]
  },
  {
   "cell_type": "code",
   "execution_count": 7,
   "metadata": {},
   "outputs": [],
   "source": [
    "# Fill missing columns with default values depending on columns type\n",
    "hotel_data.latitude.fillna(0, inplace=True)\n",
    "hotel_data.longitude.fillna(0, inplace=True)\n",
    "hotel_data.postalCode.fillna(' ', inplace=True)\n",
    "hotel_data.reviews_date.fillna('1111-11-11T00:00:00Z', inplace=True)\n",
    "hotel_data.reviews_doRecommend.fillna(0, inplace=True)\n",
    "hotel_data.reviews_id.fillna(0, inplace=True)\n",
    "hotel_data.reviews_rating.fillna(0, inplace=True)\n",
    "hotel_data.reviews_title.fillna(' ', inplace=True)\n",
    "hotel_data.reviews_userCity.fillna(' ', inplace=True)\n",
    "hotel_data.reviews_username.fillna(' ', inplace=True)\n",
    "hotel_data.reviews_userProvince.fillna(' ', inplace=True)"
   ]
  },
  {
   "cell_type": "markdown",
   "metadata": {},
   "source": [
    "> **Elasticsearch** is document oriented, meaning that it stores entire object or documents. It not only stores them, but also indexes the content of each document in order to make them searchable."
   ]
  },
  {
   "cell_type": "markdown",
   "metadata": {},
   "source": [
    "### So, let's bulid a doc for each hotel"
   ]
  },
  {
   "cell_type": "code",
   "execution_count": 8,
   "metadata": {},
   "outputs": [],
   "source": [
    "def create_hotel_doc(df):\n",
    "    '''\n",
    "    Function to create a (doc) one dictionary for each hotel, contains all its data in the dataset\n",
    "    *Args: \n",
    "        df: dataframe, given dataframe for a hotel\n",
    "    *Return:\n",
    "        hotel_dict: dict, docs contains hotel data\n",
    "    '''\n",
    "    \n",
    "    # store hotel informations ( address, type , long, ...)\n",
    "    hotel_dict = df.iloc[0,:9].to_dict()\n",
    "    \n",
    "    # store hotel reviews as a list inside the above dict and this list contains a dictionary for each review \n",
    "    hotel_dict['reviews'] = df.iloc[:,9:].to_dict(orient='records')\n",
    "    \n",
    "    return hotel_dict"
   ]
  },
  {
   "cell_type": "code",
   "execution_count": 9,
   "metadata": {
    "scrolled": true
   },
   "outputs": [],
   "source": [
    "# list to hold hotels docs\n",
    "hotels_docs = []\n",
    "\n",
    "# loop over hotels\n",
    "for hotel_name in hotel_data.name.unique():\n",
    "    \n",
    "    # create and append dict for a hotel\n",
    "    dict_ = create_hotel_doc(hotel_data[hotel_data.name == hotel_name])\n",
    "    hotels_docs.append(dict_)"
   ]
  },
  {
   "cell_type": "code",
   "execution_count": 10,
   "metadata": {
    "scrolled": true
   },
   "outputs": [
    {
     "name": "stdout",
     "output_type": "stream",
     "text": [
      "We have 725 docs in our list, each doc is a hotel data\n"
     ]
    }
   ],
   "source": [
    "print('We have {} docs in our list, each doc is a hotel data'.format(len(hotels_docs)))"
   ]
  },
  {
   "cell_type": "code",
   "execution_count": 15,
   "metadata": {
    "scrolled": false
   },
   "outputs": [
    {
     "data": {
      "text/plain": [
       "{'address': 'N4449 Us Highway 45',\n",
       " 'categories': 'Hotels,Lodging,Bed & Breakfast & Inns,Motels',\n",
       " 'city': 'Tigerton',\n",
       " 'country': 'US',\n",
       " 'latitude': 44.750305,\n",
       " 'longitude': -89.06617,\n",
       " 'name': 'Rock A Bye Inn',\n",
       " 'postalCode': '54486',\n",
       " 'province': 'Morris',\n",
       " 'reviews': [{'reviews_date': '1111-11-11T00:00:00Z',\n",
       "   'reviews_dateAdded': '2016-04-03T12:14:00Z',\n",
       "   'reviews_doRecommend': 0.0,\n",
       "   'reviews_id': 0.0,\n",
       "   'reviews_rating': 0.0,\n",
       "   'reviews_text': 'to share your opinion of this businesswith YP visitors across the United Statesand in your neighborhood',\n",
       "   'reviews_title': ' ',\n",
       "   'reviews_userCity': ' ',\n",
       "   'reviews_username': 'write a review',\n",
       "   'reviews_userProvince': ' ',\n",
       "   'is_hotel': 1,\n",
       "   'review_anger': 0.0,\n",
       "   'review_fear': 0.0,\n",
       "   'review_joy': 0.0,\n",
       "   'review_sadness': 0.0,\n",
       "   'review_analytical': 0.0,\n",
       "   'review_confident': 0.0,\n",
       "   'review_tentative': 0.0,\n",
       "   'review_title_anger': 0.0,\n",
       "   'review_title_fear': 0.0,\n",
       "   'review_title_joy': 0.0,\n",
       "   'review_title_sadness': 0.0,\n",
       "   'review_title_analytical': 0.0,\n",
       "   'review_title_confident': 0.0,\n",
       "   'review_title_tentative': 0.0}]}"
      ]
     },
     "execution_count": 15,
     "metadata": {},
     "output_type": "execute_result"
    }
   ],
   "source": [
    "# check how hotel doc looks like\n",
    "hotels_docs[720]"
   ]
  },
  {
   "cell_type": "markdown",
   "metadata": {},
   "source": [
    ">As you can see above, we have created a dictionary for each hotel. For columns have fixed information about the hotel like address, categories, city and so on, each column became a key with a value in our dictionary. And for columns have reviews information like review text, review title, etc, we have a key called `reviews` and its value is a list of dictionaries, each dictionary has information about one user review "
   ]
  },
  {
   "cell_type": "code",
   "execution_count": 50,
   "metadata": {},
   "outputs": [],
   "source": [
    "# save this list in a file to use it later on the flask \n",
    "with open('../data/processed_data/hotels_docs', 'wb') as fp:\n",
    "    pickle.dump(hotels_docs, fp)"
   ]
  },
  {
   "cell_type": "markdown",
   "metadata": {},
   "source": [
    "### Now, let's store these documents using Elasticsearch "
   ]
  },
  {
   "cell_type": "code",
   "execution_count": 19,
   "metadata": {},
   "outputs": [],
   "source": [
    "# Import Elasticsearch libraries \n",
    "from elasticsearch import Elasticsearch "
   ]
  },
  {
   "cell_type": "code",
   "execution_count": 20,
   "metadata": {},
   "outputs": [
    {
     "data": {
      "text/plain": [
       "<Elasticsearch([{'host': 'localhost', 'port': 9200}])>"
      ]
     },
     "execution_count": 20,
     "metadata": {},
     "output_type": "execute_result"
    }
   ],
   "source": [
    "# Connect to the elastic cluster\n",
    "es=Elasticsearch([{'host':'localhost','port':9200}])\n",
    "es"
   ]
  },
  {
   "cell_type": "markdown",
   "metadata": {},
   "source": [
    "#### Elasticsearch Index: \n",
    "Is like a database in traditional database. It is the place to store related documents."
   ]
  },
  {
   "cell_type": "markdown",
   "metadata": {},
   "source": [
    "> To store or retrive any document we would need three pieces of informantion:\n",
    "    - Index — Database\n",
    "    - Datatype — Type of the document\n",
    "    - Id — Id of the document"
   ]
  },
  {
   "cell_type": "code",
   "execution_count": 21,
   "metadata": {},
   "outputs": [],
   "source": [
    "# store hotels docs in index called 'hotelreview' and give each doc an Id\n",
    "id_ = 1\n",
    "for doc in hotels_docs:\n",
    "    res = es.index(index='hotelreview',doc_type='hotel',id=id_,body=doc)\n",
    "    id_ += 1"
   ]
  },
  {
   "cell_type": "markdown",
   "metadata": {},
   "source": [
    "### Test retrieving one doc by one of its features\n",
    "Try to find a hotel by looking for `Highway` word in the address"
   ]
  },
  {
   "cell_type": "code",
   "execution_count": 35,
   "metadata": {},
   "outputs": [],
   "source": [
    "result = es.search(index=\"hotelreview\", body={\"query\": {\"match\": {'address':'Highway'}}})['hits']['hits']"
   ]
  },
  {
   "cell_type": "code",
   "execution_count": 47,
   "metadata": {},
   "outputs": [
    {
     "name": "stdout",
     "output_type": "stream",
     "text": [
      "The search query returns 10 hotels docs\n"
     ]
    }
   ],
   "source": [
    "print('The search query returns {} hotels docs'.format(len(result)))"
   ]
  },
  {
   "cell_type": "code",
   "execution_count": 46,
   "metadata": {
    "scrolled": true
   },
   "outputs": [
    {
     "name": "stdout",
     "output_type": "stream",
     "text": [
      "1 - Hotel name: Econo Lodge St Robert\n",
      "\t Hotel Address: 309 Highway Z\n",
      "2 - Hotel name: Motor Inns of America\n",
      "\t Hotel Address: 4740 Highway 68\n",
      "3 - Hotel name: Boiling Springs Resort Canoe Rental\n",
      "\t Hotel Address: 15750 Highway Bb\n",
      "4 - Hotel name: Intercontinental Hotels Resorts\n",
      "\t Hotel Address: 17300 Highway 99\n",
      "5 - Hotel name: Old Wheeler Hotel\n",
      "\t Hotel Address: 495 Highway 101\n",
      "6 - Hotel name: Arrowhead Motel and Rv Park\n",
      "\t Hotel Address: 616 Highway 70\n",
      "7 - Hotel name: Mineola Motel\n",
      "\t Hotel Address: 1505 Highway 17\n",
      "8 - Hotel name: Monarch Inn\n",
      "\t Hotel Address: 5059 Highway 140\n",
      "9 - Hotel name: Quality Inn Gulfport\n",
      "\t Hotel Address: 9435 Highway 49\n",
      "10 - Hotel name: Sportsmen Motel\n",
      "\t Hotel Address: 2909 E Highway 101\n"
     ]
    }
   ],
   "source": [
    "for ind, hotel_doc in enumerate(result):\n",
    "    print(ind+1, '- Hotel name:',hotel_doc['_source']['name'])\n",
    "    print('\\t Hotel Address:',hotel_doc['_source']['address'])\n",
    "    "
   ]
  }
 ],
 "metadata": {
  "kernelspec": {
   "display_name": "Python 3",
   "language": "python",
   "name": "python3"
  },
  "language_info": {
   "codemirror_mode": {
    "name": "ipython",
    "version": 3
   },
   "file_extension": ".py",
   "mimetype": "text/x-python",
   "name": "python",
   "nbconvert_exporter": "python",
   "pygments_lexer": "ipython3",
   "version": "3.6.5"
  }
 },
 "nbformat": 4,
 "nbformat_minor": 2
}
