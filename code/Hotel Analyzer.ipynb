{
 "cells": [
  {
   "cell_type": "markdown",
   "metadata": {},
   "source": [
    "# Hotel Tone Analyzer:\n",
    "_Auther: Esraa Madi_\n",
    "\n",
    "\n",
    "-------"
   ]
  },
  {
   "cell_type": "markdown",
   "metadata": {},
   "source": [
    "### Overview\n",
    "\n",
    "Social media and online review sites encourage a ton of writing about your business or brand. With so much valuable data hidden in plain sight, you can’t let it just sit there! we need to mine large samples of unstructured data easily with emotion detection and sentiment analysis.\n",
    "\n",
    "Interpreting a text is not an easy thing to do.  showing you how much anger, joy, fear, disgust, or sadness are likely in the text needs a lot of processes to detect emotions.\n",
    "\n",
    "A quick example, the sentence, \"Sorry, can't make it.\" has a 50% likelihood of sadness. But if you change the period to an exclamation point, the likelihood of sadness drops to 38% and anger becomes the most dominant emotion.\n",
    "\n",
    "----"
   ]
  },
  {
   "cell_type": "markdown",
   "metadata": {},
   "source": [
    "**Tone Analyzer** is a service determines the emotional tone behind a series of words, used to gain an understanding of the attitudes, opinions and emotions expressed within an online mention."
   ]
  },
  {
   "cell_type": "markdown",
   "metadata": {},
   "source": [
    "__*This Service Makes Sure You’ll Never Misinterpret A Text Again!*__"
   ]
  },
  {
   "cell_type": "markdown",
   "metadata": {},
   "source": [
    "It is critical for any organization to understand and track the general sentiment of its users at any given time.\n",
    "\n",
    "---"
   ]
  },
  {
   "cell_type": "markdown",
   "metadata": {},
   "source": [
    "Here we going to use one of common emotional or sentiment analysis APIs **IBM Tone Analyzer** to analysis text reviews of 1,000 hotels and get the total emotional tones for a hotel\n",
    "\n"
   ]
  },
  {
   "cell_type": "markdown",
   "metadata": {},
   "source": [
    "#### [IBM Tone Analyzer](https://www.ibm.com/watson/services/tone-analyzer/) \n",
    "is one of the cognitive services provided by IBM Cloud. It can help us predict the emotions, tones and communication style of the text written by users (passed as input to the service).\n",
    "\n",
    "To have an insight on the service and tones, try this [web interface](https://tone-analyzer-demo.ng.bluemix.net/).\n",
    "\n",
    "---\n"
   ]
  },
  {
   "cell_type": "markdown",
   "metadata": {},
   "source": [
    "### How Hotel Tone Analyzer Service Works?\n",
    "It calculate the normalized total tones for the hotel using (Watson python lib). This lib will give you a normalized score for the detected tones, then we will aggregate them all and get a final score.\n",
    "\n",
    "For example, if we have for a specific hotel:\n",
    "- Review #1 scored 0.25 angry, and 0.80 sad\n",
    "- Review #2 scored 0.7 happy, and 0.65 sad\n",
    "- Review #3 scored 0.2 happy, 0.7 angry, and 0.4 sad\n",
    "\n",
    "So the total normalized tones for this hotel is 0.47 angry, 0.45 happy, and 0.62 sad\n",
    "\n",
    "----"
   ]
  },
  {
   "cell_type": "markdown",
   "metadata": {},
   "source": [
    "### Datasets\n",
    "The dataset used in this project is taken from this [Kaggle dataset](https://www.kaggle.com/datafiniti/hotel-reviews#7282_1.csv)\n",
    "\n",
    "This dataset is a list of about 1,000 hotels and 30,000 reviews. The dataset includes hotel location, name, rating, review data, title, username, and more.\n",
    "\n",
    "For more information about dataset columns, you can check this [data dictionary](https://developer.datafiniti.co/docs/business-data-schema)\n",
    "\n",
    "----\n"
   ]
  },
  {
   "cell_type": "markdown",
   "metadata": {},
   "source": [
    "#### Let's start :)"
   ]
  },
  {
   "cell_type": "code",
   "execution_count": 9,
   "metadata": {},
   "outputs": [],
   "source": [
    "# import libraries\n",
    "import pandas as pd\n",
    "import numpy as np"
   ]
  },
  {
   "cell_type": "code",
   "execution_count": 119,
   "metadata": {},
   "outputs": [],
   "source": [
    "# read hotel data\n",
    "places_df = pd.read_csv(\"../data/raw_data/7282_1.csv\")"
   ]
  },
  {
   "cell_type": "code",
   "execution_count": 120,
   "metadata": {
    "scrolled": false
   },
   "outputs": [
    {
     "data": {
      "text/html": [
       "<div>\n",
       "<style scoped>\n",
       "    .dataframe tbody tr th:only-of-type {\n",
       "        vertical-align: middle;\n",
       "    }\n",
       "\n",
       "    .dataframe tbody tr th {\n",
       "        vertical-align: top;\n",
       "    }\n",
       "\n",
       "    .dataframe thead th {\n",
       "        text-align: right;\n",
       "    }\n",
       "</style>\n",
       "<table border=\"1\" class=\"dataframe\">\n",
       "  <thead>\n",
       "    <tr style=\"text-align: right;\">\n",
       "      <th></th>\n",
       "      <th>address</th>\n",
       "      <th>categories</th>\n",
       "      <th>city</th>\n",
       "      <th>country</th>\n",
       "      <th>latitude</th>\n",
       "      <th>longitude</th>\n",
       "      <th>name</th>\n",
       "      <th>postalCode</th>\n",
       "      <th>province</th>\n",
       "      <th>reviews.date</th>\n",
       "      <th>reviews.dateAdded</th>\n",
       "      <th>reviews.doRecommend</th>\n",
       "      <th>reviews.id</th>\n",
       "      <th>reviews.rating</th>\n",
       "      <th>reviews.text</th>\n",
       "      <th>reviews.title</th>\n",
       "      <th>reviews.userCity</th>\n",
       "      <th>reviews.username</th>\n",
       "      <th>reviews.userProvince</th>\n",
       "    </tr>\n",
       "  </thead>\n",
       "  <tbody>\n",
       "    <tr>\n",
       "      <th>0</th>\n",
       "      <td>Riviera San Nicol 11/a</td>\n",
       "      <td>Hotels</td>\n",
       "      <td>Mableton</td>\n",
       "      <td>US</td>\n",
       "      <td>45.421611</td>\n",
       "      <td>12.376187</td>\n",
       "      <td>Hotel Russo Palace</td>\n",
       "      <td>30126</td>\n",
       "      <td>GA</td>\n",
       "      <td>2013-09-22T00:00:00Z</td>\n",
       "      <td>2016-10-24T00:00:25Z</td>\n",
       "      <td>NaN</td>\n",
       "      <td>NaN</td>\n",
       "      <td>4.0</td>\n",
       "      <td>Pleasant 10 min walk along the sea front to th...</td>\n",
       "      <td>Good location away from the crouds</td>\n",
       "      <td>NaN</td>\n",
       "      <td>Russ (kent)</td>\n",
       "      <td>NaN</td>\n",
       "    </tr>\n",
       "    <tr>\n",
       "      <th>1</th>\n",
       "      <td>Riviera San Nicol 11/a</td>\n",
       "      <td>Hotels</td>\n",
       "      <td>Mableton</td>\n",
       "      <td>US</td>\n",
       "      <td>45.421611</td>\n",
       "      <td>12.376187</td>\n",
       "      <td>Hotel Russo Palace</td>\n",
       "      <td>30126</td>\n",
       "      <td>GA</td>\n",
       "      <td>2015-04-03T00:00:00Z</td>\n",
       "      <td>2016-10-24T00:00:25Z</td>\n",
       "      <td>NaN</td>\n",
       "      <td>NaN</td>\n",
       "      <td>5.0</td>\n",
       "      <td>Really lovely hotel. Stayed on the very top fl...</td>\n",
       "      <td>Great hotel with Jacuzzi bath!</td>\n",
       "      <td>NaN</td>\n",
       "      <td>A Traveler</td>\n",
       "      <td>NaN</td>\n",
       "    </tr>\n",
       "    <tr>\n",
       "      <th>2</th>\n",
       "      <td>Riviera San Nicol 11/a</td>\n",
       "      <td>Hotels</td>\n",
       "      <td>Mableton</td>\n",
       "      <td>US</td>\n",
       "      <td>45.421611</td>\n",
       "      <td>12.376187</td>\n",
       "      <td>Hotel Russo Palace</td>\n",
       "      <td>30126</td>\n",
       "      <td>GA</td>\n",
       "      <td>2014-05-13T00:00:00Z</td>\n",
       "      <td>2016-10-24T00:00:25Z</td>\n",
       "      <td>NaN</td>\n",
       "      <td>NaN</td>\n",
       "      <td>5.0</td>\n",
       "      <td>Ett mycket bra hotell. Det som drog ner betyge...</td>\n",
       "      <td>Lugnt l��ge</td>\n",
       "      <td>NaN</td>\n",
       "      <td>Maud</td>\n",
       "      <td>NaN</td>\n",
       "    </tr>\n",
       "    <tr>\n",
       "      <th>3</th>\n",
       "      <td>Riviera San Nicol 11/a</td>\n",
       "      <td>Hotels</td>\n",
       "      <td>Mableton</td>\n",
       "      <td>US</td>\n",
       "      <td>45.421611</td>\n",
       "      <td>12.376187</td>\n",
       "      <td>Hotel Russo Palace</td>\n",
       "      <td>30126</td>\n",
       "      <td>GA</td>\n",
       "      <td>2013-10-27T00:00:00Z</td>\n",
       "      <td>2016-10-24T00:00:25Z</td>\n",
       "      <td>NaN</td>\n",
       "      <td>NaN</td>\n",
       "      <td>5.0</td>\n",
       "      <td>We stayed here for four nights in October. The...</td>\n",
       "      <td>Good location on the Lido.</td>\n",
       "      <td>NaN</td>\n",
       "      <td>Julie</td>\n",
       "      <td>NaN</td>\n",
       "    </tr>\n",
       "    <tr>\n",
       "      <th>4</th>\n",
       "      <td>Riviera San Nicol 11/a</td>\n",
       "      <td>Hotels</td>\n",
       "      <td>Mableton</td>\n",
       "      <td>US</td>\n",
       "      <td>45.421611</td>\n",
       "      <td>12.376187</td>\n",
       "      <td>Hotel Russo Palace</td>\n",
       "      <td>30126</td>\n",
       "      <td>GA</td>\n",
       "      <td>2015-03-05T00:00:00Z</td>\n",
       "      <td>2016-10-24T00:00:25Z</td>\n",
       "      <td>NaN</td>\n",
       "      <td>NaN</td>\n",
       "      <td>5.0</td>\n",
       "      <td>We stayed here for four nights in October. The...</td>\n",
       "      <td>������ ���������������</td>\n",
       "      <td>NaN</td>\n",
       "      <td>sungchul</td>\n",
       "      <td>NaN</td>\n",
       "    </tr>\n",
       "  </tbody>\n",
       "</table>\n",
       "</div>"
      ],
      "text/plain": [
       "                  address categories      city country   latitude  longitude  \\\n",
       "0  Riviera San Nicol 11/a     Hotels  Mableton      US  45.421611  12.376187   \n",
       "1  Riviera San Nicol 11/a     Hotels  Mableton      US  45.421611  12.376187   \n",
       "2  Riviera San Nicol 11/a     Hotels  Mableton      US  45.421611  12.376187   \n",
       "3  Riviera San Nicol 11/a     Hotels  Mableton      US  45.421611  12.376187   \n",
       "4  Riviera San Nicol 11/a     Hotels  Mableton      US  45.421611  12.376187   \n",
       "\n",
       "                 name postalCode province          reviews.date  \\\n",
       "0  Hotel Russo Palace      30126       GA  2013-09-22T00:00:00Z   \n",
       "1  Hotel Russo Palace      30126       GA  2015-04-03T00:00:00Z   \n",
       "2  Hotel Russo Palace      30126       GA  2014-05-13T00:00:00Z   \n",
       "3  Hotel Russo Palace      30126       GA  2013-10-27T00:00:00Z   \n",
       "4  Hotel Russo Palace      30126       GA  2015-03-05T00:00:00Z   \n",
       "\n",
       "      reviews.dateAdded  reviews.doRecommend  reviews.id  reviews.rating  \\\n",
       "0  2016-10-24T00:00:25Z                  NaN         NaN             4.0   \n",
       "1  2016-10-24T00:00:25Z                  NaN         NaN             5.0   \n",
       "2  2016-10-24T00:00:25Z                  NaN         NaN             5.0   \n",
       "3  2016-10-24T00:00:25Z                  NaN         NaN             5.0   \n",
       "4  2016-10-24T00:00:25Z                  NaN         NaN             5.0   \n",
       "\n",
       "                                        reviews.text  \\\n",
       "0  Pleasant 10 min walk along the sea front to th...   \n",
       "1  Really lovely hotel. Stayed on the very top fl...   \n",
       "2  Ett mycket bra hotell. Det som drog ner betyge...   \n",
       "3  We stayed here for four nights in October. The...   \n",
       "4  We stayed here for four nights in October. The...   \n",
       "\n",
       "                        reviews.title reviews.userCity reviews.username  \\\n",
       "0  Good location away from the crouds              NaN      Russ (kent)   \n",
       "1      Great hotel with Jacuzzi bath!              NaN       A Traveler   \n",
       "2                         Lugnt l��ge              NaN             Maud   \n",
       "3          Good location on the Lido.              NaN            Julie   \n",
       "4              ������ ���������������              NaN         sungchul   \n",
       "\n",
       "  reviews.userProvince  \n",
       "0                  NaN  \n",
       "1                  NaN  \n",
       "2                  NaN  \n",
       "3                  NaN  \n",
       "4                  NaN  "
      ]
     },
     "execution_count": 120,
     "metadata": {},
     "output_type": "execute_result"
    }
   ],
   "source": [
    "# check first 5 rows of dataframe\n",
    "places_df.head()"
   ]
  },
  {
   "cell_type": "code",
   "execution_count": 121,
   "metadata": {},
   "outputs": [
    {
     "data": {
      "text/plain": [
       "(35912, 19)"
      ]
     },
     "execution_count": 121,
     "metadata": {},
     "output_type": "execute_result"
    }
   ],
   "source": [
    "# check data shape\n",
    "places_df.shape"
   ]
  },
  {
   "cell_type": "markdown",
   "metadata": {},
   "source": [
    "> We have here almost 36,000 reviews for hotels "
   ]
  },
  {
   "cell_type": "code",
   "execution_count": 122,
   "metadata": {},
   "outputs": [],
   "source": [
    "# clean columns names ( '.' will raise an error during calling dataframe columns)\n",
    "places_df.columns = [col.replace('.', '_') for col in places_df.columns]"
   ]
  },
  {
   "cell_type": "code",
   "execution_count": 123,
   "metadata": {},
   "outputs": [
    {
     "data": {
      "text/plain": [
       "address                     0\n",
       "categories                  0\n",
       "city                        0\n",
       "country                     0\n",
       "latitude                   86\n",
       "longitude                  86\n",
       "name                        0\n",
       "postalCode                 55\n",
       "province                    0\n",
       "reviews_date              259\n",
       "reviews_dateAdded           0\n",
       "reviews_doRecommend     35912\n",
       "reviews_id              35912\n",
       "reviews_rating            862\n",
       "reviews_text               22\n",
       "reviews_title            1622\n",
       "reviews_userCity        19649\n",
       "reviews_username           43\n",
       "reviews_userProvince    18394\n",
       "dtype: int64"
      ]
     },
     "execution_count": 123,
     "metadata": {},
     "output_type": "execute_result"
    }
   ],
   "source": [
    "# checking missing values \n",
    "places_df.isnull().sum()"
   ]
  },
  {
   "cell_type": "markdown",
   "metadata": {},
   "source": [
    "> As we can see here, there is a lot of missing values in the hotel info and review details. I don't think I am going to use in my analyzer more than **reviews text** and **hotel name**\n",
    "\n",
    "> For the **hotel name** column, there are no missing values. \n",
    "\n",
    "> For the **review text** there are only 22 missing reviews over a total of 35912 , we will delete them."
   ]
  },
  {
   "cell_type": "code",
   "execution_count": 124,
   "metadata": {},
   "outputs": [
    {
     "data": {
      "text/html": [
       "<div>\n",
       "<style scoped>\n",
       "    .dataframe tbody tr th:only-of-type {\n",
       "        vertical-align: middle;\n",
       "    }\n",
       "\n",
       "    .dataframe tbody tr th {\n",
       "        vertical-align: top;\n",
       "    }\n",
       "\n",
       "    .dataframe thead th {\n",
       "        text-align: right;\n",
       "    }\n",
       "</style>\n",
       "<table border=\"1\" class=\"dataframe\">\n",
       "  <thead>\n",
       "    <tr style=\"text-align: right;\">\n",
       "      <th></th>\n",
       "      <th>name</th>\n",
       "      <th>reviews_text</th>\n",
       "    </tr>\n",
       "  </thead>\n",
       "  <tbody>\n",
       "    <tr>\n",
       "      <th>0</th>\n",
       "      <td>Hotel Russo Palace</td>\n",
       "      <td>Pleasant 10 min walk along the sea front to th...</td>\n",
       "    </tr>\n",
       "    <tr>\n",
       "      <th>1</th>\n",
       "      <td>Hotel Russo Palace</td>\n",
       "      <td>Really lovely hotel. Stayed on the very top fl...</td>\n",
       "    </tr>\n",
       "    <tr>\n",
       "      <th>2</th>\n",
       "      <td>Hotel Russo Palace</td>\n",
       "      <td>Ett mycket bra hotell. Det som drog ner betyge...</td>\n",
       "    </tr>\n",
       "    <tr>\n",
       "      <th>3</th>\n",
       "      <td>Hotel Russo Palace</td>\n",
       "      <td>We stayed here for four nights in October. The...</td>\n",
       "    </tr>\n",
       "    <tr>\n",
       "      <th>4</th>\n",
       "      <td>Hotel Russo Palace</td>\n",
       "      <td>We stayed here for four nights in October. The...</td>\n",
       "    </tr>\n",
       "  </tbody>\n",
       "</table>\n",
       "</div>"
      ],
      "text/plain": [
       "                 name                                       reviews_text\n",
       "0  Hotel Russo Palace  Pleasant 10 min walk along the sea front to th...\n",
       "1  Hotel Russo Palace  Really lovely hotel. Stayed on the very top fl...\n",
       "2  Hotel Russo Palace  Ett mycket bra hotell. Det som drog ner betyge...\n",
       "3  Hotel Russo Palace  We stayed here for four nights in October. The...\n",
       "4  Hotel Russo Palace  We stayed here for four nights in October. The..."
      ]
     },
     "execution_count": 124,
     "metadata": {},
     "output_type": "execute_result"
    }
   ],
   "source": [
    "# check sample of reviews\n",
    "places_df[['name', 'reviews_text']].head()"
   ]
  },
  {
   "cell_type": "code",
   "execution_count": 125,
   "metadata": {
    "scrolled": true
   },
   "outputs": [
    {
     "name": "stdout",
     "output_type": "stream",
     "text": [
      "Our data contains 35912 for 879 (hotels, resorts or restaurants) \n"
     ]
    }
   ],
   "source": [
    "print('Our data contains {} for {} (hotels, resorts or restaurants) '.format(places_df.shape[0],len(places_df.name.unique())))"
   ]
  },
  {
   "cell_type": "code",
   "execution_count": 126,
   "metadata": {},
   "outputs": [
    {
     "data": {
      "text/plain": [
       "Hotels                                                                                                                  21420\n",
       "Hotels,Hotel                                                                                                             2977\n",
       "Hotel,Hotels                                                                                                             1524\n",
       "Hotels,Hotels & Motels                                                                                                    423\n",
       "Hotels,Casinos                                                                                                            392\n",
       "Banquet Rooms,Hotels,Banquet Facilities,Hotels & Motels,Hotel,Hotels Motels                                               320\n",
       "Travel & Transport,Hotels,Hotels & Motels                                                                                 319\n",
       "Conventions Conferences & Trade Shows,Wedding Receptions & Parties,Convention & Meeting Facilities & Services,Hotels      314\n",
       "Hotels & Motels                                                                                                           305\n",
       "Wedding Sites,Hotels,Hotels & Motels,Meeting Facilities                                                                   271\n",
       "Name: categories, dtype: int64"
      ]
     },
     "execution_count": 126,
     "metadata": {},
     "output_type": "execute_result"
    }
   ],
   "source": [
    "# filter data with “Hotels” value in “categories” column\n",
    "places_df.categories.value_counts()[:10]"
   ]
  },
  {
   "cell_type": "markdown",
   "metadata": {},
   "source": [
    "> As we can see the reviewed places in the dataset are classified as `hotels` or `hotels and casinos` or `hotels and restaurants` at the same time, so we will filter any place with `hotels` word in his category"
   ]
  },
  {
   "cell_type": "code",
   "execution_count": 127,
   "metadata": {},
   "outputs": [],
   "source": [
    "def check_hotel_category(cat_list):\n",
    "    '''\n",
    "    Function takes full categories list for any place and return 1 if is hotel\n",
    "    *Args: \n",
    "        cat_list : string, place categories\n",
    "    *Return:\n",
    "        integer, 1 if the place is hotel, otherwise 0\n",
    "    '''\n",
    "    for cat in cat_list.split(','):\n",
    "        if cat.lower() == 'hotels':\n",
    "            return 1\n",
    "    return 0"
   ]
  },
  {
   "cell_type": "code",
   "execution_count": 128,
   "metadata": {},
   "outputs": [],
   "source": [
    "# add new column called is_hotel to use it later on filtering\n",
    "places_df['is_hotel'] = places_df.categories.map(check_hotel_category)"
   ]
  },
  {
   "cell_type": "code",
   "execution_count": 129,
   "metadata": {},
   "outputs": [],
   "source": [
    "# create a new dataframe with hotels only \n",
    "hotels_df = places_df[places_df.is_hotel == 1].copy()"
   ]
  },
  {
   "cell_type": "code",
   "execution_count": 130,
   "metadata": {},
   "outputs": [
    {
     "data": {
      "text/plain": [
       "(33625, 20)"
      ]
     },
     "execution_count": 130,
     "metadata": {},
     "output_type": "execute_result"
    }
   ],
   "source": [
    "# check how many hotels we have now \n",
    "hotels_df.shape"
   ]
  },
  {
   "cell_type": "code",
   "execution_count": 131,
   "metadata": {},
   "outputs": [
    {
     "data": {
      "text/html": [
       "<div>\n",
       "<style scoped>\n",
       "    .dataframe tbody tr th:only-of-type {\n",
       "        vertical-align: middle;\n",
       "    }\n",
       "\n",
       "    .dataframe tbody tr th {\n",
       "        vertical-align: top;\n",
       "    }\n",
       "\n",
       "    .dataframe thead th {\n",
       "        text-align: right;\n",
       "    }\n",
       "</style>\n",
       "<table border=\"1\" class=\"dataframe\">\n",
       "  <thead>\n",
       "    <tr style=\"text-align: right;\">\n",
       "      <th></th>\n",
       "      <th>address</th>\n",
       "      <th>categories</th>\n",
       "      <th>city</th>\n",
       "      <th>country</th>\n",
       "      <th>latitude</th>\n",
       "      <th>longitude</th>\n",
       "      <th>name</th>\n",
       "      <th>postalCode</th>\n",
       "      <th>province</th>\n",
       "      <th>reviews_date</th>\n",
       "      <th>reviews_dateAdded</th>\n",
       "      <th>reviews_doRecommend</th>\n",
       "      <th>reviews_id</th>\n",
       "      <th>reviews_rating</th>\n",
       "      <th>reviews_text</th>\n",
       "      <th>reviews_title</th>\n",
       "      <th>reviews_userCity</th>\n",
       "      <th>reviews_username</th>\n",
       "      <th>reviews_userProvince</th>\n",
       "      <th>is_hotel</th>\n",
       "    </tr>\n",
       "  </thead>\n",
       "  <tbody>\n",
       "    <tr>\n",
       "      <th>0</th>\n",
       "      <td>Riviera San Nicol 11/a</td>\n",
       "      <td>Hotels</td>\n",
       "      <td>Mableton</td>\n",
       "      <td>US</td>\n",
       "      <td>45.421611</td>\n",
       "      <td>12.376187</td>\n",
       "      <td>Hotel Russo Palace</td>\n",
       "      <td>30126</td>\n",
       "      <td>GA</td>\n",
       "      <td>2013-09-22T00:00:00Z</td>\n",
       "      <td>2016-10-24T00:00:25Z</td>\n",
       "      <td>NaN</td>\n",
       "      <td>NaN</td>\n",
       "      <td>4.0</td>\n",
       "      <td>Pleasant 10 min walk along the sea front to th...</td>\n",
       "      <td>Good location away from the crouds</td>\n",
       "      <td>NaN</td>\n",
       "      <td>Russ (kent)</td>\n",
       "      <td>NaN</td>\n",
       "      <td>1</td>\n",
       "    </tr>\n",
       "    <tr>\n",
       "      <th>1</th>\n",
       "      <td>Riviera San Nicol 11/a</td>\n",
       "      <td>Hotels</td>\n",
       "      <td>Mableton</td>\n",
       "      <td>US</td>\n",
       "      <td>45.421611</td>\n",
       "      <td>12.376187</td>\n",
       "      <td>Hotel Russo Palace</td>\n",
       "      <td>30126</td>\n",
       "      <td>GA</td>\n",
       "      <td>2015-04-03T00:00:00Z</td>\n",
       "      <td>2016-10-24T00:00:25Z</td>\n",
       "      <td>NaN</td>\n",
       "      <td>NaN</td>\n",
       "      <td>5.0</td>\n",
       "      <td>Really lovely hotel. Stayed on the very top fl...</td>\n",
       "      <td>Great hotel with Jacuzzi bath!</td>\n",
       "      <td>NaN</td>\n",
       "      <td>A Traveler</td>\n",
       "      <td>NaN</td>\n",
       "      <td>1</td>\n",
       "    </tr>\n",
       "    <tr>\n",
       "      <th>2</th>\n",
       "      <td>Riviera San Nicol 11/a</td>\n",
       "      <td>Hotels</td>\n",
       "      <td>Mableton</td>\n",
       "      <td>US</td>\n",
       "      <td>45.421611</td>\n",
       "      <td>12.376187</td>\n",
       "      <td>Hotel Russo Palace</td>\n",
       "      <td>30126</td>\n",
       "      <td>GA</td>\n",
       "      <td>2014-05-13T00:00:00Z</td>\n",
       "      <td>2016-10-24T00:00:25Z</td>\n",
       "      <td>NaN</td>\n",
       "      <td>NaN</td>\n",
       "      <td>5.0</td>\n",
       "      <td>Ett mycket bra hotell. Det som drog ner betyge...</td>\n",
       "      <td>Lugnt l��ge</td>\n",
       "      <td>NaN</td>\n",
       "      <td>Maud</td>\n",
       "      <td>NaN</td>\n",
       "      <td>1</td>\n",
       "    </tr>\n",
       "    <tr>\n",
       "      <th>3</th>\n",
       "      <td>Riviera San Nicol 11/a</td>\n",
       "      <td>Hotels</td>\n",
       "      <td>Mableton</td>\n",
       "      <td>US</td>\n",
       "      <td>45.421611</td>\n",
       "      <td>12.376187</td>\n",
       "      <td>Hotel Russo Palace</td>\n",
       "      <td>30126</td>\n",
       "      <td>GA</td>\n",
       "      <td>2013-10-27T00:00:00Z</td>\n",
       "      <td>2016-10-24T00:00:25Z</td>\n",
       "      <td>NaN</td>\n",
       "      <td>NaN</td>\n",
       "      <td>5.0</td>\n",
       "      <td>We stayed here for four nights in October. The...</td>\n",
       "      <td>Good location on the Lido.</td>\n",
       "      <td>NaN</td>\n",
       "      <td>Julie</td>\n",
       "      <td>NaN</td>\n",
       "      <td>1</td>\n",
       "    </tr>\n",
       "    <tr>\n",
       "      <th>4</th>\n",
       "      <td>Riviera San Nicol 11/a</td>\n",
       "      <td>Hotels</td>\n",
       "      <td>Mableton</td>\n",
       "      <td>US</td>\n",
       "      <td>45.421611</td>\n",
       "      <td>12.376187</td>\n",
       "      <td>Hotel Russo Palace</td>\n",
       "      <td>30126</td>\n",
       "      <td>GA</td>\n",
       "      <td>2015-03-05T00:00:00Z</td>\n",
       "      <td>2016-10-24T00:00:25Z</td>\n",
       "      <td>NaN</td>\n",
       "      <td>NaN</td>\n",
       "      <td>5.0</td>\n",
       "      <td>We stayed here for four nights in October. The...</td>\n",
       "      <td>������ ���������������</td>\n",
       "      <td>NaN</td>\n",
       "      <td>sungchul</td>\n",
       "      <td>NaN</td>\n",
       "      <td>1</td>\n",
       "    </tr>\n",
       "  </tbody>\n",
       "</table>\n",
       "</div>"
      ],
      "text/plain": [
       "                  address categories      city country   latitude  longitude  \\\n",
       "0  Riviera San Nicol 11/a     Hotels  Mableton      US  45.421611  12.376187   \n",
       "1  Riviera San Nicol 11/a     Hotels  Mableton      US  45.421611  12.376187   \n",
       "2  Riviera San Nicol 11/a     Hotels  Mableton      US  45.421611  12.376187   \n",
       "3  Riviera San Nicol 11/a     Hotels  Mableton      US  45.421611  12.376187   \n",
       "4  Riviera San Nicol 11/a     Hotels  Mableton      US  45.421611  12.376187   \n",
       "\n",
       "                 name postalCode province          reviews_date  \\\n",
       "0  Hotel Russo Palace      30126       GA  2013-09-22T00:00:00Z   \n",
       "1  Hotel Russo Palace      30126       GA  2015-04-03T00:00:00Z   \n",
       "2  Hotel Russo Palace      30126       GA  2014-05-13T00:00:00Z   \n",
       "3  Hotel Russo Palace      30126       GA  2013-10-27T00:00:00Z   \n",
       "4  Hotel Russo Palace      30126       GA  2015-03-05T00:00:00Z   \n",
       "\n",
       "      reviews_dateAdded  reviews_doRecommend  reviews_id  reviews_rating  \\\n",
       "0  2016-10-24T00:00:25Z                  NaN         NaN             4.0   \n",
       "1  2016-10-24T00:00:25Z                  NaN         NaN             5.0   \n",
       "2  2016-10-24T00:00:25Z                  NaN         NaN             5.0   \n",
       "3  2016-10-24T00:00:25Z                  NaN         NaN             5.0   \n",
       "4  2016-10-24T00:00:25Z                  NaN         NaN             5.0   \n",
       "\n",
       "                                        reviews_text  \\\n",
       "0  Pleasant 10 min walk along the sea front to th...   \n",
       "1  Really lovely hotel. Stayed on the very top fl...   \n",
       "2  Ett mycket bra hotell. Det som drog ner betyge...   \n",
       "3  We stayed here for four nights in October. The...   \n",
       "4  We stayed here for four nights in October. The...   \n",
       "\n",
       "                        reviews_title reviews_userCity reviews_username  \\\n",
       "0  Good location away from the crouds              NaN      Russ (kent)   \n",
       "1      Great hotel with Jacuzzi bath!              NaN       A Traveler   \n",
       "2                         Lugnt l��ge              NaN             Maud   \n",
       "3          Good location on the Lido.              NaN            Julie   \n",
       "4              ������ ���������������              NaN         sungchul   \n",
       "\n",
       "  reviews_userProvince  is_hotel  \n",
       "0                  NaN         1  \n",
       "1                  NaN         1  \n",
       "2                  NaN         1  \n",
       "3                  NaN         1  \n",
       "4                  NaN         1  "
      ]
     },
     "execution_count": 131,
     "metadata": {},
     "output_type": "execute_result"
    }
   ],
   "source": [
    "# check hotels dataframe header\n",
    "hotels_df.head()"
   ]
  },
  {
   "cell_type": "code",
   "execution_count": 132,
   "metadata": {},
   "outputs": [
    {
     "data": {
      "text/plain": [
       "address                     0\n",
       "categories                  0\n",
       "city                        0\n",
       "country                     0\n",
       "latitude                   82\n",
       "longitude                  82\n",
       "name                        0\n",
       "postalCode                 55\n",
       "province                    0\n",
       "reviews_date              233\n",
       "reviews_dateAdded           0\n",
       "reviews_doRecommend     33625\n",
       "reviews_id              33625\n",
       "reviews_rating            491\n",
       "reviews_text               21\n",
       "reviews_title            1171\n",
       "reviews_userCity        18932\n",
       "reviews_username           41\n",
       "reviews_userProvince    17615\n",
       "is_hotel                    0\n",
       "dtype: int64"
      ]
     },
     "execution_count": 132,
     "metadata": {},
     "output_type": "execute_result"
    }
   ],
   "source": [
    "# check missing values again\n",
    "hotels_df.isnull().sum()"
   ]
  },
  {
   "cell_type": "code",
   "execution_count": 133,
   "metadata": {},
   "outputs": [],
   "source": [
    "# Delete those 21 rows, since the API works on text mainly\n",
    "hotels_df.drop(hotels_df[hotels_df.reviews_text.isnull()].index, inplace=True)"
   ]
  },
  {
   "cell_type": "markdown",
   "metadata": {},
   "source": [
    "#### IBM Watson python lib"
   ]
  },
  {
   "cell_type": "markdown",
   "metadata": {},
   "source": [
    "**The library has two functions we can use it to do tone analysis:**\n",
    "1. Analyze general tone:\n",
    "    - This service analyze the content for emotional and language tones. It can analyzes the tone of the full document; by default,\n",
    "2. Analyze customer-engagement tone\n",
    "    - This service analyze the tone of customer service and support conversations. It can help you better understand your interactions with customers and improve your communications in general or for specific customers.\n",
    "    \n",
    "I will use the first one since it matches my problem here more"
   ]
  },
  {
   "cell_type": "markdown",
   "metadata": {},
   "source": [
    "**There are two versions of Api:**\n",
    "- `2016-05-19`:\n",
    "- `2017-09-21`: \n",
    "    - The service can return results for the following tone IDs:\n",
    "        - Emotional tones: anger, fear, joy, and sadness.\n",
    "        - Language tones: analytical, confident, and tentative.\n",
    "    - The service returns results only for tones whose scores meet a minimum threshold of 0.5.\n",
    "\n",
    "I will use the most recent version.\n",
    "\n",
    "-----"
   ]
  },
  {
   "cell_type": "markdown",
   "metadata": {},
   "source": [
    "#### Installation \n",
    "To get started with IBM Tone Analyzer and get required credentials, I found [this link]( https://github.com/watson-developer-cloud/python-sdk) is very helpful.\n",
    "\n",
    "-----"
   ]
  },
  {
   "cell_type": "code",
   "execution_count": 134,
   "metadata": {},
   "outputs": [],
   "source": [
    "# install first\n",
    "#!pip install --upgrade ibm-watson"
   ]
  },
  {
   "cell_type": "markdown",
   "metadata": {},
   "source": [
    "#### Supplying the API key and version \n",
    "\n",
    "---"
   ]
  },
  {
   "cell_type": "code",
   "execution_count": 135,
   "metadata": {},
   "outputs": [],
   "source": [
    "# import Api libraries\n",
    "import json\n",
    "from ibm_watson import ToneAnalyzerV3\n",
    "from ibm_watson.tone_analyzer_v3 import ToneInput\n",
    "from ibm_cloud_sdk_core.authenticators import IAMAuthenticator"
   ]
  },
  {
   "cell_type": "code",
   "execution_count": 136,
   "metadata": {},
   "outputs": [],
   "source": [
    "# set key, version and service url\n",
    "authenticator = IAMAuthenticator(\"\")\n",
    "service = ToneAnalyzerV3(version='2017-09-21', authenticator=authenticator)\n",
    "service.set_service_url(\"https://gateway-lon.watsonplatform.net/tone-analyzer/api\")"
   ]
  },
  {
   "cell_type": "markdown",
   "metadata": {},
   "source": [
    "#### Text cleaning "
   ]
  },
  {
   "cell_type": "markdown",
   "metadata": {},
   "source": [
    "As far as I checked, I could not find anything about text cleaning before using IBM tone analyzer API, but I found in the API documentation that they consider in their tone prediction features such as punctuation, emoticons, language parameters such as sentence structure, and sentence complexity.<br>\n",
    "So I don't think I am going to remove them since they have some kind of impact on the predicted tone. Another reason to keep them is the general tone API uses punctuation to do sentence segmentation."
   ]
  },
  {
   "cell_type": "markdown",
   "metadata": {},
   "source": [
    "----"
   ]
  },
  {
   "cell_type": "markdown",
   "metadata": {},
   "source": [
    "#### Get tones for each review text"
   ]
  },
  {
   "cell_type": "markdown",
   "metadata": {},
   "source": [
    "The response of  general tone service API contains two predicted tone analysis:\n",
    "- document-level analysis\n",
    "- sentence-level analysis.\n",
    "\n",
    "I will use document-level analysis which represents (review-level) in my case then merge these predicted document tones beside each review in our dataframe.<br>\n",
    "Regarding the full response, we will store it in a list then save in a file later for further use.\n",
    "\n",
    "---"
   ]
  },
  {
   "cell_type": "code",
   "execution_count": 137,
   "metadata": {},
   "outputs": [],
   "source": [
    "# save api response in list\n",
    "review_tone_analysis = []"
   ]
  },
  {
   "cell_type": "code",
   "execution_count": 138,
   "metadata": {},
   "outputs": [],
   "source": [
    "# concat document-level analysis to dataframe by adding a column for each possible returned tone and set default value 0 hotels_df['review_anger'] = [0]*hotels_df.shape[0]\n",
    "hotels_df['review_fear'] = [0]*hotels_df.shape[0]\n",
    "hotels_df['review_joy'] = [0]*hotels_df.shape[0]\n",
    "hotels_df['review_sadness'] = [0]*hotels_df.shape[0]\n",
    "hotels_df['review_analytical'] = [0]*hotels_df.shape[0]\n",
    "hotels_df['review_confident'] = [0]*hotels_df.shape[0]\n",
    "hotels_df['review_tentative'] = [0]*hotels_df.shape[0]"
   ]
  },
  {
   "cell_type": "code",
   "execution_count": 139,
   "metadata": {},
   "outputs": [
    {
     "data": {
      "text/html": [
       "<div>\n",
       "<style scoped>\n",
       "    .dataframe tbody tr th:only-of-type {\n",
       "        vertical-align: middle;\n",
       "    }\n",
       "\n",
       "    .dataframe tbody tr th {\n",
       "        vertical-align: top;\n",
       "    }\n",
       "\n",
       "    .dataframe thead th {\n",
       "        text-align: right;\n",
       "    }\n",
       "</style>\n",
       "<table border=\"1\" class=\"dataframe\">\n",
       "  <thead>\n",
       "    <tr style=\"text-align: right;\">\n",
       "      <th></th>\n",
       "      <th>address</th>\n",
       "      <th>categories</th>\n",
       "      <th>city</th>\n",
       "      <th>country</th>\n",
       "      <th>latitude</th>\n",
       "      <th>longitude</th>\n",
       "      <th>name</th>\n",
       "      <th>postalCode</th>\n",
       "      <th>province</th>\n",
       "      <th>reviews_date</th>\n",
       "      <th>...</th>\n",
       "      <th>reviews_userCity</th>\n",
       "      <th>reviews_username</th>\n",
       "      <th>reviews_userProvince</th>\n",
       "      <th>is_hotel</th>\n",
       "      <th>review_fear</th>\n",
       "      <th>review_joy</th>\n",
       "      <th>review_sadness</th>\n",
       "      <th>review_analytical</th>\n",
       "      <th>review_confident</th>\n",
       "      <th>review_tentative</th>\n",
       "    </tr>\n",
       "  </thead>\n",
       "  <tbody>\n",
       "    <tr>\n",
       "      <th>0</th>\n",
       "      <td>Riviera San Nicol 11/a</td>\n",
       "      <td>Hotels</td>\n",
       "      <td>Mableton</td>\n",
       "      <td>US</td>\n",
       "      <td>45.421611</td>\n",
       "      <td>12.376187</td>\n",
       "      <td>Hotel Russo Palace</td>\n",
       "      <td>30126</td>\n",
       "      <td>GA</td>\n",
       "      <td>2013-09-22T00:00:00Z</td>\n",
       "      <td>...</td>\n",
       "      <td>NaN</td>\n",
       "      <td>Russ (kent)</td>\n",
       "      <td>NaN</td>\n",
       "      <td>1</td>\n",
       "      <td>0</td>\n",
       "      <td>0</td>\n",
       "      <td>0</td>\n",
       "      <td>0</td>\n",
       "      <td>0</td>\n",
       "      <td>0</td>\n",
       "    </tr>\n",
       "    <tr>\n",
       "      <th>1</th>\n",
       "      <td>Riviera San Nicol 11/a</td>\n",
       "      <td>Hotels</td>\n",
       "      <td>Mableton</td>\n",
       "      <td>US</td>\n",
       "      <td>45.421611</td>\n",
       "      <td>12.376187</td>\n",
       "      <td>Hotel Russo Palace</td>\n",
       "      <td>30126</td>\n",
       "      <td>GA</td>\n",
       "      <td>2015-04-03T00:00:00Z</td>\n",
       "      <td>...</td>\n",
       "      <td>NaN</td>\n",
       "      <td>A Traveler</td>\n",
       "      <td>NaN</td>\n",
       "      <td>1</td>\n",
       "      <td>0</td>\n",
       "      <td>0</td>\n",
       "      <td>0</td>\n",
       "      <td>0</td>\n",
       "      <td>0</td>\n",
       "      <td>0</td>\n",
       "    </tr>\n",
       "  </tbody>\n",
       "</table>\n",
       "<p>2 rows × 26 columns</p>\n",
       "</div>"
      ],
      "text/plain": [
       "                  address categories      city country   latitude  longitude  \\\n",
       "0  Riviera San Nicol 11/a     Hotels  Mableton      US  45.421611  12.376187   \n",
       "1  Riviera San Nicol 11/a     Hotels  Mableton      US  45.421611  12.376187   \n",
       "\n",
       "                 name postalCode province          reviews_date  \\\n",
       "0  Hotel Russo Palace      30126       GA  2013-09-22T00:00:00Z   \n",
       "1  Hotel Russo Palace      30126       GA  2015-04-03T00:00:00Z   \n",
       "\n",
       "         ...        reviews_userCity  reviews_username  reviews_userProvince  \\\n",
       "0        ...                     NaN       Russ (kent)                   NaN   \n",
       "1        ...                     NaN        A Traveler                   NaN   \n",
       "\n",
       "   is_hotel review_fear review_joy review_sadness review_analytical  \\\n",
       "0         1           0          0              0                 0   \n",
       "1         1           0          0              0                 0   \n",
       "\n",
       "  review_confident  review_tentative  \n",
       "0                0                 0  \n",
       "1                0                 0  \n",
       "\n",
       "[2 rows x 26 columns]"
      ]
     },
     "execution_count": 139,
     "metadata": {},
     "output_type": "execute_result"
    }
   ],
   "source": [
    "# check datafram header\n",
    "hotels_df.head(2)"
   ]
  },
  {
   "cell_type": "code",
   "execution_count": 346,
   "metadata": {},
   "outputs": [
    {
     "name": "stdout",
     "output_type": "stream",
     "text": [
      "Our data contains 33604 for 725 (hotels, resorts or restaurants) \n"
     ]
    }
   ],
   "source": [
    "print('Our data contains {} for {} (hotels, resorts or restaurants) '.format(hotels_df.shape[0],len(hotels_df.name.unique())))"
   ]
  },
  {
   "cell_type": "markdown",
   "metadata": {},
   "source": [
    "> We will loop over 33604 review and get the tone from each one. "
   ]
  },
  {
   "cell_type": "code",
   "execution_count": 348,
   "metadata": {},
   "outputs": [],
   "source": [
    "def get_text_tone(txt):\n",
    "    '''\n",
    "    Function takes text and use IBM tone analyser to get the text tone\n",
    "    *Args: \n",
    "        txt: string, any text need to get its tone\n",
    "    *Return:\n",
    "        tone_analysis: dict, containt document-level and sentence-level analysis for the text\n",
    "    '''\n",
    "    \n",
    "    tone_analysis = service.tone({'text': txt}, content_type=\"text/plain\").get_result()\n",
    "    \n",
    "    return tone_analysis"
   ]
  },
  {
   "cell_type": "code",
   "execution_count": 358,
   "metadata": {
    "scrolled": true
   },
   "outputs": [],
   "source": [
    "# loop over hotels reviews \n",
    "for index, row in hotels_df.iterrows():\n",
    "    \n",
    "    # get review tone analysis\n",
    "    review_tone = get_text_tone(row.reviews_text)\n",
    "    \n",
    "    # save response in the list\n",
    "    review_tone_analysis.append(review_tone)\n",
    "    \n",
    "    # loop over returned (document-level) tones of the text\n",
    "    for tone in review_tone['document_tone']['tones']:\n",
    "        \n",
    "        # edit obtained tone in the dataframe \n",
    "        col_name = 'review_' + tone['tone_id']\n",
    "        hotels_df.loc[index, col_name] = tone['score']"
   ]
  },
  {
   "cell_type": "code",
   "execution_count": 361,
   "metadata": {},
   "outputs": [],
   "source": [
    "# since the API requests took almost 10 hours, we save the current version of dataframe in the file \n",
    "hotels_df.to_csv('../data/processed_data/hotel_review_text_tone.csv')"
   ]
  },
  {
   "cell_type": "code",
   "execution_count": 362,
   "metadata": {},
   "outputs": [],
   "source": [
    "# save the full API response in the file just in case we need it later \n",
    "api_response = pd.DataFrame({'tone':review_tone_analysis})\n",
    "api_response.to_csv('../data/processed_data/review_text_tone_response.csv')"
   ]
  },
  {
   "cell_type": "markdown",
   "metadata": {},
   "source": [
    "#### Get tones for each review title"
   ]
  },
  {
   "cell_type": "markdown",
   "metadata": {},
   "source": [
    "Usually, in the review title users tell things which left the most impacts on them either they like it or not. <br>\n",
    "So I think doing analysis for the review title itself maybe will add some value.\n",
    "\n",
    "----"
   ]
  },
  {
   "cell_type": "code",
   "execution_count": 365,
   "metadata": {
    "scrolled": true
   },
   "outputs": [
    {
     "data": {
      "text/plain": [
       "(1153, 27)"
      ]
     },
     "execution_count": 365,
     "metadata": {},
     "output_type": "execute_result"
    }
   ],
   "source": [
    "# check missing values on review title\n",
    "hotels_df[hotels_df.reviews_title.isnull()].shape"
   ]
  },
  {
   "cell_type": "code",
   "execution_count": null,
   "metadata": {},
   "outputs": [],
   "source": [
    "# fill missing titles with ' '\n",
    "hotels_df.reviews_title.fillna(' ', inplace=True)"
   ]
  },
  {
   "cell_type": "code",
   "execution_count": 255,
   "metadata": {},
   "outputs": [],
   "source": [
    "# save api response in list\n",
    "title_tone_analysis = []"
   ]
  },
  {
   "cell_type": "code",
   "execution_count": 145,
   "metadata": {},
   "outputs": [],
   "source": [
    "# concat document-level analysis to dataframe by adding a column for each possible returned tone and set defult value 0 \n",
    "hotels_df['review_title_anger'] = [0]*hotels_df.shape[0]\n",
    "hotels_df['review_title_fear'] = [0]*hotels_df.shape[0]\n",
    "hotels_df['review_title_joy'] = [0]*hotels_df.shape[0]\n",
    "hotels_df['review_title_sadness'] = [0]*hotels_df.shape[0]\n",
    "hotels_df['review_title_analytical'] = [0]*hotels_df.shape[0]\n",
    "hotels_df['review_title_confident'] = [0]*hotels_df.shape[0]\n",
    "hotels_df['review_title_tentative'] = [0]*hotels_df.shape[0]"
   ]
  },
  {
   "cell_type": "code",
   "execution_count": 146,
   "metadata": {},
   "outputs": [
    {
     "data": {
      "text/html": [
       "<div>\n",
       "<style scoped>\n",
       "    .dataframe tbody tr th:only-of-type {\n",
       "        vertical-align: middle;\n",
       "    }\n",
       "\n",
       "    .dataframe tbody tr th {\n",
       "        vertical-align: top;\n",
       "    }\n",
       "\n",
       "    .dataframe thead th {\n",
       "        text-align: right;\n",
       "    }\n",
       "</style>\n",
       "<table border=\"1\" class=\"dataframe\">\n",
       "  <thead>\n",
       "    <tr style=\"text-align: right;\">\n",
       "      <th></th>\n",
       "      <th>address</th>\n",
       "      <th>categories</th>\n",
       "      <th>city</th>\n",
       "      <th>country</th>\n",
       "      <th>latitude</th>\n",
       "      <th>longitude</th>\n",
       "      <th>name</th>\n",
       "      <th>postalCode</th>\n",
       "      <th>province</th>\n",
       "      <th>reviews_date</th>\n",
       "      <th>...</th>\n",
       "      <th>review_analytical</th>\n",
       "      <th>review_confident</th>\n",
       "      <th>review_tentative</th>\n",
       "      <th>review_title_anger</th>\n",
       "      <th>review_title_fear</th>\n",
       "      <th>review_title_joy</th>\n",
       "      <th>review_title_sadness</th>\n",
       "      <th>review_title_analytical</th>\n",
       "      <th>review_title_confident</th>\n",
       "      <th>review_title_tentative</th>\n",
       "    </tr>\n",
       "  </thead>\n",
       "  <tbody>\n",
       "    <tr>\n",
       "      <th>0</th>\n",
       "      <td>Riviera San Nicol 11/a</td>\n",
       "      <td>Hotels</td>\n",
       "      <td>Mableton</td>\n",
       "      <td>US</td>\n",
       "      <td>45.421611</td>\n",
       "      <td>12.376187</td>\n",
       "      <td>Hotel Russo Palace</td>\n",
       "      <td>30126</td>\n",
       "      <td>GA</td>\n",
       "      <td>2013-09-22T00:00:00Z</td>\n",
       "      <td>...</td>\n",
       "      <td>0.000000</td>\n",
       "      <td>0.000000</td>\n",
       "      <td>0.833496</td>\n",
       "      <td>0</td>\n",
       "      <td>0</td>\n",
       "      <td>0</td>\n",
       "      <td>0</td>\n",
       "      <td>0</td>\n",
       "      <td>0</td>\n",
       "      <td>0</td>\n",
       "    </tr>\n",
       "    <tr>\n",
       "      <th>1</th>\n",
       "      <td>Riviera San Nicol 11/a</td>\n",
       "      <td>Hotels</td>\n",
       "      <td>Mableton</td>\n",
       "      <td>US</td>\n",
       "      <td>45.421611</td>\n",
       "      <td>12.376187</td>\n",
       "      <td>Hotel Russo Palace</td>\n",
       "      <td>30126</td>\n",
       "      <td>GA</td>\n",
       "      <td>2015-04-03T00:00:00Z</td>\n",
       "      <td>...</td>\n",
       "      <td>0.585508</td>\n",
       "      <td>0.808712</td>\n",
       "      <td>0.000000</td>\n",
       "      <td>0</td>\n",
       "      <td>0</td>\n",
       "      <td>0</td>\n",
       "      <td>0</td>\n",
       "      <td>0</td>\n",
       "      <td>0</td>\n",
       "      <td>0</td>\n",
       "    </tr>\n",
       "  </tbody>\n",
       "</table>\n",
       "<p>2 rows × 34 columns</p>\n",
       "</div>"
      ],
      "text/plain": [
       "                  address categories      city country   latitude  longitude  \\\n",
       "0  Riviera San Nicol 11/a     Hotels  Mableton      US  45.421611  12.376187   \n",
       "1  Riviera San Nicol 11/a     Hotels  Mableton      US  45.421611  12.376187   \n",
       "\n",
       "                 name postalCode province          reviews_date  \\\n",
       "0  Hotel Russo Palace      30126       GA  2013-09-22T00:00:00Z   \n",
       "1  Hotel Russo Palace      30126       GA  2015-04-03T00:00:00Z   \n",
       "\n",
       "            ...           review_analytical  review_confident  \\\n",
       "0           ...                    0.000000          0.000000   \n",
       "1           ...                    0.585508          0.808712   \n",
       "\n",
       "   review_tentative  review_title_anger review_title_fear review_title_joy  \\\n",
       "0          0.833496                   0                 0                0   \n",
       "1          0.000000                   0                 0                0   \n",
       "\n",
       "  review_title_sadness review_title_analytical review_title_confident  \\\n",
       "0                    0                       0                      0   \n",
       "1                    0                       0                      0   \n",
       "\n",
       "   review_title_tentative  \n",
       "0                       0  \n",
       "1                       0  \n",
       "\n",
       "[2 rows x 34 columns]"
      ]
     },
     "execution_count": 146,
     "metadata": {},
     "output_type": "execute_result"
    }
   ],
   "source": [
    "# check datafram header\n",
    "hotels_df.head(2)"
   ]
  },
  {
   "cell_type": "markdown",
   "metadata": {},
   "source": [
    "> We will loop over review titles and get the tone from each one "
   ]
  },
  {
   "cell_type": "code",
   "execution_count": 358,
   "metadata": {
    "scrolled": true
   },
   "outputs": [],
   "source": [
    "# loop over hotels reviews titles\n",
    "for index, row in hotels_df.iterrows():\n",
    "    \n",
    "    # check if number of title words > 3, since api limit for input text is minimum 3 words\n",
    "    if len(row.reviews_title.split(' ')) > 3 :\n",
    "        \n",
    "        # get review title tone analysis\n",
    "        review_tone = get_text_tone(row.reviews_title)\n",
    "\n",
    "        # save response in the list\n",
    "        title_tone_analysis.append(review_tone)\n",
    "\n",
    "        # loop over returned (document-level) tones of the text\n",
    "        for tone in review_tone['document_tone']['tones']:\n",
    "\n",
    "            # edit obtained tone in the dataframe \n",
    "            col_name = 'review_title_' + tone['tone_id']\n",
    "            hotels_df.loc[index, col_name] = tone['score']"
   ]
  },
  {
   "cell_type": "code",
   "execution_count": 361,
   "metadata": {},
   "outputs": [],
   "source": [
    "# save the current version of dataframe in the file \n",
    "hotels_df.to_csv('../data/processed_data/hotel_review_text_tone.csv')"
   ]
  },
  {
   "cell_type": "code",
   "execution_count": 362,
   "metadata": {},
   "outputs": [],
   "source": [
    "# save the full API response in the file just in case we need it later \n",
    "api_response = pd.DataFrame({'tone':review_tone_analysis})\n",
    "api_response.to_csv('../data/processed_data/review_title_tone_response.csv')"
   ]
  },
  {
   "cell_type": "markdown",
   "metadata": {},
   "source": [
    "#### Get Normalized Total Tones For Each Hotel\n",
    "\n",
    "----"
   ]
  },
  {
   "cell_type": "code",
   "execution_count": 59,
   "metadata": {},
   "outputs": [],
   "source": [
    "# reload processed data\n",
    "hotels_df = pd.read_csv('../data/processed_data/hotel_review_text_tone.csv', index_col=0)"
   ]
  },
  {
   "cell_type": "code",
   "execution_count": 60,
   "metadata": {},
   "outputs": [
    {
     "data": {
      "text/html": [
       "<div>\n",
       "<style scoped>\n",
       "    .dataframe tbody tr th:only-of-type {\n",
       "        vertical-align: middle;\n",
       "    }\n",
       "\n",
       "    .dataframe tbody tr th {\n",
       "        vertical-align: top;\n",
       "    }\n",
       "\n",
       "    .dataframe thead th {\n",
       "        text-align: right;\n",
       "    }\n",
       "</style>\n",
       "<table border=\"1\" class=\"dataframe\">\n",
       "  <thead>\n",
       "    <tr style=\"text-align: right;\">\n",
       "      <th></th>\n",
       "      <th>address</th>\n",
       "      <th>categories</th>\n",
       "      <th>city</th>\n",
       "      <th>country</th>\n",
       "      <th>latitude</th>\n",
       "      <th>longitude</th>\n",
       "      <th>name</th>\n",
       "      <th>postalCode</th>\n",
       "      <th>province</th>\n",
       "      <th>reviews_date</th>\n",
       "      <th>...</th>\n",
       "      <th>review_analytical</th>\n",
       "      <th>review_confident</th>\n",
       "      <th>review_tentative</th>\n",
       "      <th>review_title_anger</th>\n",
       "      <th>review_title_fear</th>\n",
       "      <th>review_title_joy</th>\n",
       "      <th>review_title_sadness</th>\n",
       "      <th>review_title_analytical</th>\n",
       "      <th>review_title_confident</th>\n",
       "      <th>review_title_tentative</th>\n",
       "    </tr>\n",
       "  </thead>\n",
       "  <tbody>\n",
       "    <tr>\n",
       "      <th>0</th>\n",
       "      <td>Riviera San Nicol 11/a</td>\n",
       "      <td>Hotels</td>\n",
       "      <td>Mableton</td>\n",
       "      <td>US</td>\n",
       "      <td>45.421611</td>\n",
       "      <td>12.376187</td>\n",
       "      <td>Hotel Russo Palace</td>\n",
       "      <td>30126</td>\n",
       "      <td>GA</td>\n",
       "      <td>2013-09-22T00:00:00Z</td>\n",
       "      <td>...</td>\n",
       "      <td>0.000000</td>\n",
       "      <td>0.000000</td>\n",
       "      <td>0.833496</td>\n",
       "      <td>0.0</td>\n",
       "      <td>0.0</td>\n",
       "      <td>0.000000</td>\n",
       "      <td>0.0</td>\n",
       "      <td>0.0</td>\n",
       "      <td>0.0</td>\n",
       "      <td>0.0</td>\n",
       "    </tr>\n",
       "    <tr>\n",
       "      <th>1</th>\n",
       "      <td>Riviera San Nicol 11/a</td>\n",
       "      <td>Hotels</td>\n",
       "      <td>Mableton</td>\n",
       "      <td>US</td>\n",
       "      <td>45.421611</td>\n",
       "      <td>12.376187</td>\n",
       "      <td>Hotel Russo Palace</td>\n",
       "      <td>30126</td>\n",
       "      <td>GA</td>\n",
       "      <td>2015-04-03T00:00:00Z</td>\n",
       "      <td>...</td>\n",
       "      <td>0.585508</td>\n",
       "      <td>0.808712</td>\n",
       "      <td>0.000000</td>\n",
       "      <td>0.0</td>\n",
       "      <td>0.0</td>\n",
       "      <td>0.831246</td>\n",
       "      <td>0.0</td>\n",
       "      <td>0.0</td>\n",
       "      <td>0.0</td>\n",
       "      <td>0.0</td>\n",
       "    </tr>\n",
       "  </tbody>\n",
       "</table>\n",
       "<p>2 rows × 34 columns</p>\n",
       "</div>"
      ],
      "text/plain": [
       "                  address categories      city country   latitude  longitude  \\\n",
       "0  Riviera San Nicol 11/a     Hotels  Mableton      US  45.421611  12.376187   \n",
       "1  Riviera San Nicol 11/a     Hotels  Mableton      US  45.421611  12.376187   \n",
       "\n",
       "                 name postalCode province          reviews_date  \\\n",
       "0  Hotel Russo Palace      30126       GA  2013-09-22T00:00:00Z   \n",
       "1  Hotel Russo Palace      30126       GA  2015-04-03T00:00:00Z   \n",
       "\n",
       "            ...           review_analytical  review_confident  \\\n",
       "0           ...                    0.000000          0.000000   \n",
       "1           ...                    0.585508          0.808712   \n",
       "\n",
       "   review_tentative  review_title_anger review_title_fear review_title_joy  \\\n",
       "0          0.833496                 0.0               0.0         0.000000   \n",
       "1          0.000000                 0.0               0.0         0.831246   \n",
       "\n",
       "  review_title_sadness review_title_analytical review_title_confident  \\\n",
       "0                  0.0                     0.0                    0.0   \n",
       "1                  0.0                     0.0                    0.0   \n",
       "\n",
       "   review_title_tentative  \n",
       "0                     0.0  \n",
       "1                     0.0  \n",
       "\n",
       "[2 rows x 34 columns]"
      ]
     },
     "execution_count": 60,
     "metadata": {},
     "output_type": "execute_result"
    }
   ],
   "source": [
    "# check data header\n",
    "hotels_df.head(2)"
   ]
  },
  {
   "cell_type": "code",
   "execution_count": null,
   "metadata": {},
   "outputs": [],
   "source": [
    "# aggregate reviews tones for each hotel "
   ]
  },
  {
   "cell_type": "code",
   "execution_count": 63,
   "metadata": {},
   "outputs": [],
   "source": [
    "def tone_score_avg(col):\n",
    "    '''\n",
    "    Function to caluclate normalized score for each hotel (the average of tone score)\n",
    "    *Args: \n",
    "        col: series, given column\n",
    "    *Return:\n",
    "        avg: float, average of tones without non-zero numbers\n",
    "    '''\n",
    "    \n",
    "    sum_ = sum(col.tolist()) # total sum \n",
    "    count_ = np.count_nonzero(col.tolist()) # count only non zero cells\n",
    "    try:\n",
    "        avg = sum_ / count_\n",
    "    except:\n",
    "        avg = 0 \n",
    "    return avg"
   ]
  },
  {
   "cell_type": "code",
   "execution_count": 64,
   "metadata": {},
   "outputs": [],
   "source": [
    "# get normalized score of reviews for each hotel\n",
    "hotels_norm_tone = hotels_df.groupby('name', as_index=False).agg({\n",
    "                                 'review_anger': [tone_score_avg]\n",
    "                               , 'review_fear': [tone_score_avg]\n",
    "                               , 'review_joy': [tone_score_avg]\n",
    "                               , 'review_sadness': [tone_score_avg]\n",
    "                               , 'review_analytical': [tone_score_avg]\n",
    "                               , 'review_confident': [tone_score_avg]\n",
    "                               , 'review_tentative': [tone_score_avg]\n",
    "                               , 'review_title_anger': [tone_score_avg]\n",
    "                               , 'review_title_fear': [tone_score_avg]\n",
    "                               , 'review_title_joy': [tone_score_avg]\n",
    "                               , 'review_title_sadness': [tone_score_avg]\n",
    "                               , 'review_title_analytical': [tone_score_avg]\n",
    "                               , 'review_title_confident': [tone_score_avg]\n",
    "                               , 'review_title_tentative': [tone_score_avg]\n",
    "    \n",
    "})\n",
    "\n",
    "# fix columns names\n",
    "hotels_norm_tone.columns = hotels_norm_tone.columns.droplevel(1)"
   ]
  },
  {
   "cell_type": "code",
   "execution_count": 66,
   "metadata": {},
   "outputs": [
    {
     "data": {
      "text/html": [
       "<div>\n",
       "<style scoped>\n",
       "    .dataframe tbody tr th:only-of-type {\n",
       "        vertical-align: middle;\n",
       "    }\n",
       "\n",
       "    .dataframe tbody tr th {\n",
       "        vertical-align: top;\n",
       "    }\n",
       "\n",
       "    .dataframe thead th {\n",
       "        text-align: right;\n",
       "    }\n",
       "</style>\n",
       "<table border=\"1\" class=\"dataframe\">\n",
       "  <thead>\n",
       "    <tr style=\"text-align: right;\">\n",
       "      <th></th>\n",
       "      <th>name</th>\n",
       "      <th>review_anger</th>\n",
       "      <th>review_fear</th>\n",
       "      <th>review_joy</th>\n",
       "      <th>review_sadness</th>\n",
       "      <th>review_analytical</th>\n",
       "      <th>review_confident</th>\n",
       "      <th>review_tentative</th>\n",
       "      <th>review_title_anger</th>\n",
       "      <th>review_title_fear</th>\n",
       "      <th>review_title_joy</th>\n",
       "      <th>review_title_sadness</th>\n",
       "      <th>review_title_analytical</th>\n",
       "      <th>review_title_confident</th>\n",
       "      <th>review_title_tentative</th>\n",
       "    </tr>\n",
       "  </thead>\n",
       "  <tbody>\n",
       "    <tr>\n",
       "      <th>0</th>\n",
       "      <td>40 Berkeley Hostel</td>\n",
       "      <td>0.704641</td>\n",
       "      <td>0.638483</td>\n",
       "      <td>0.690031</td>\n",
       "      <td>0.607036</td>\n",
       "      <td>0.697771</td>\n",
       "      <td>0.842183</td>\n",
       "      <td>0.765867</td>\n",
       "      <td>0.0</td>\n",
       "      <td>0.51381</td>\n",
       "      <td>0.706380</td>\n",
       "      <td>0.522247</td>\n",
       "      <td>0.652860</td>\n",
       "      <td>0.959143</td>\n",
       "      <td>0.716493</td>\n",
       "    </tr>\n",
       "    <tr>\n",
       "      <th>1</th>\n",
       "      <td>A Bed &amp; Breakfast In Cambridge</td>\n",
       "      <td>0.586374</td>\n",
       "      <td>0.608599</td>\n",
       "      <td>0.743332</td>\n",
       "      <td>0.518749</td>\n",
       "      <td>0.721827</td>\n",
       "      <td>0.819326</td>\n",
       "      <td>0.675607</td>\n",
       "      <td>0.0</td>\n",
       "      <td>0.00000</td>\n",
       "      <td>0.815313</td>\n",
       "      <td>0.574057</td>\n",
       "      <td>0.837134</td>\n",
       "      <td>0.800260</td>\n",
       "      <td>0.000000</td>\n",
       "    </tr>\n",
       "  </tbody>\n",
       "</table>\n",
       "</div>"
      ],
      "text/plain": [
       "                             name  review_anger  review_fear  review_joy  \\\n",
       "0              40 Berkeley Hostel      0.704641     0.638483    0.690031   \n",
       "1  A Bed & Breakfast In Cambridge      0.586374     0.608599    0.743332   \n",
       "\n",
       "   review_sadness  review_analytical  review_confident  review_tentative  \\\n",
       "0        0.607036           0.697771          0.842183          0.765867   \n",
       "1        0.518749           0.721827          0.819326          0.675607   \n",
       "\n",
       "   review_title_anger  review_title_fear  review_title_joy  \\\n",
       "0                 0.0            0.51381          0.706380   \n",
       "1                 0.0            0.00000          0.815313   \n",
       "\n",
       "   review_title_sadness  review_title_analytical  review_title_confident  \\\n",
       "0              0.522247                 0.652860                0.959143   \n",
       "1              0.574057                 0.837134                0.800260   \n",
       "\n",
       "   review_title_tentative  \n",
       "0                0.716493  \n",
       "1                0.000000  "
      ]
     },
     "execution_count": 66,
     "metadata": {},
     "output_type": "execute_result"
    }
   ],
   "source": [
    "# check normalized score for hotels\n",
    "hotels_norm_tone.head(2)"
   ]
  },
  {
   "cell_type": "code",
   "execution_count": 67,
   "metadata": {},
   "outputs": [],
   "source": [
    "# save result into file to be able to use it later in flask app\n",
    "hotels_norm_tone.to_csv('../data/processed_data/hotels_norm_tone.csv')"
   ]
  },
  {
   "cell_type": "markdown",
   "metadata": {},
   "source": [
    "#### Test normalized score for one hotel \n",
    "\n",
    "We will get two normalized score tones:\n",
    "- Review text tones\n",
    "- Review title tones\n",
    "\n",
    "Let's test `40 Berkeley Hostel` Hotel"
   ]
  },
  {
   "cell_type": "markdown",
   "metadata": {},
   "source": [
    "----"
   ]
  },
  {
   "cell_type": "code",
   "execution_count": 10,
   "metadata": {},
   "outputs": [
    {
     "data": {
      "text/html": [
       "        <script type=\"text/javascript\">\n",
       "        window.PlotlyConfig = {MathJaxConfig: 'local'};\n",
       "        if (window.MathJax) {MathJax.Hub.Config({SVG: {font: \"STIX-Web\"}});}\n",
       "        if (typeof require !== 'undefined') {\n",
       "        require.undef(\"plotly\");\n",
       "        requirejs.config({\n",
       "            paths: {\n",
       "                'plotly': ['https://cdn.plot.ly/plotly-latest.min']\n",
       "            }\n",
       "        });\n",
       "        require(['plotly'], function(Plotly) {\n",
       "            window._Plotly = Plotly;\n",
       "        });\n",
       "        }\n",
       "        </script>\n",
       "        "
      ]
     },
     "metadata": {},
     "output_type": "display_data"
    }
   ],
   "source": [
    "# import plotting libraries\n",
    "from plotly import graph_objs as go\n",
    "import matplotlib.pyplot as plt\n",
    "import plotly.offline as py\n",
    "from plotly.offline import download_plotlyjs,init_notebook_mode,plot,iplot\n",
    "py.init_notebook_mode(connected=True)"
   ]
  },
  {
   "cell_type": "code",
   "execution_count": 11,
   "metadata": {},
   "outputs": [],
   "source": [
    "hotels_norm_tone = pd.read_csv('../data/processed_data/hotels_norm_tone.csv')"
   ]
  },
  {
   "cell_type": "code",
   "execution_count": 15,
   "metadata": {},
   "outputs": [],
   "source": [
    "def get_hotel_tone(hotel_name):\n",
    "    '''\n",
    "    Function to get and plot normalized score for given hotel (review text tones and review title tones)\n",
    "    *Args: \n",
    "        hotel_name: string, given hotel name\n",
    "    *Return:\n",
    "    '''\n",
    "    \n",
    "    # get hotel normalized score\n",
    "    hotel_tone = pd.Series(hotels_norm_tone[hotels_norm_tone.name == hotel_name].iloc[:,1:].to_dict(orient='records')[0])\n",
    "\n",
    "    # plot tones\n",
    "    fig = go.Figure(data=[\n",
    "    go.Bar(name='Review Text Tones', x=[i.replace('review_','') for i in hotel_tone.index[:7]], y=hotel_tone.values[:7]),\n",
    "    go.Bar(name='Review Title Tones', x=[i.replace('review_','') for i in hotel_tone.index[:7]], y=hotel_tone.values[7:])])\n",
    "    \n",
    "    # Change the bar mode\n",
    "    fig.layout.update(barmode='group')\n",
    "    py.iplot(fig)\n",
    "    #fig.show()\n"
   ]
  },
  {
   "cell_type": "code",
   "execution_count": 16,
   "metadata": {
    "scrolled": false
   },
   "outputs": [
    {
     "data": {
      "application/vnd.plotly.v1+json": {
       "config": {
        "linkText": "Export to plot.ly",
        "plotlyServerURL": "https://plot.ly",
        "showLink": false
       },
       "data": [
        {
         "name": "Review Text Tones",
         "type": "bar",
         "uid": "ed2bbd21-6cb1-4549-b95d-96136ce00cb9",
         "x": [
          "name",
          "anger",
          "fear",
          "joy",
          "sadness",
          "analytical",
          "confident"
         ],
         "y": [
          "40 Berkeley Hostel",
          0.7046405,
          0.6384825000000001,
          0.6900311666666669,
          0.6070355384615385,
          0.6977709843750002,
          0.8421834042553191
         ]
        },
        {
         "name": "Review Title Tones",
         "type": "bar",
         "uid": "2991bf50-c815-4abc-a81b-b913ac8d3270",
         "x": [
          "name",
          "anger",
          "fear",
          "joy",
          "sadness",
          "analytical",
          "confident"
         ],
         "y": [
          0.7658674067796609,
          0,
          0.51381,
          0.7063802089552241,
          0.522247,
          0.652860125,
          0.9591431428571427,
          0.7164925714285715
         ]
        }
       ],
       "layout": {
        "barmode": "group"
       }
      },
      "text/html": [
       "<div>\n",
       "        \n",
       "        \n",
       "            <div id=\"7a80a577-e2a5-444f-a2e5-55bf41c84311\" class=\"plotly-graph-div\" style=\"height:525px; width:100%;\"></div>\n",
       "            <script type=\"text/javascript\">\n",
       "                require([\"plotly\"], function(Plotly) {\n",
       "                    window.PLOTLYENV=window.PLOTLYENV || {};\n",
       "                    window.PLOTLYENV.BASE_URL='https://plot.ly';\n",
       "                    \n",
       "                if (document.getElementById(\"7a80a577-e2a5-444f-a2e5-55bf41c84311\")) {\n",
       "                    Plotly.newPlot(\n",
       "                        '7a80a577-e2a5-444f-a2e5-55bf41c84311',\n",
       "                        [{\"name\": \"Review Text Tones\", \"type\": \"bar\", \"uid\": \"ed2bbd21-6cb1-4549-b95d-96136ce00cb9\", \"x\": [\"name\", \"anger\", \"fear\", \"joy\", \"sadness\", \"analytical\", \"confident\"], \"y\": [\"40 Berkeley Hostel\", 0.7046405, 0.6384825000000001, 0.6900311666666669, 0.6070355384615385, 0.6977709843750002, 0.8421834042553191]}, {\"name\": \"Review Title Tones\", \"type\": \"bar\", \"uid\": \"2991bf50-c815-4abc-a81b-b913ac8d3270\", \"x\": [\"name\", \"anger\", \"fear\", \"joy\", \"sadness\", \"analytical\", \"confident\"], \"y\": [0.7658674067796609, 0.0, 0.51381, 0.7063802089552241, 0.522247, 0.652860125, 0.9591431428571427, 0.7164925714285715]}],\n",
       "                        {\"barmode\": \"group\"},\n",
       "                        {\"showLink\": false, \"linkText\": \"Export to plot.ly\", \"plotlyServerURL\": \"https://plot.ly\", \"responsive\": true}\n",
       "                    ).then(function(){\n",
       "                            \n",
       "var gd = document.getElementById('7a80a577-e2a5-444f-a2e5-55bf41c84311');\n",
       "var x = new MutationObserver(function (mutations, observer) {{\n",
       "        var display = window.getComputedStyle(gd).display;\n",
       "        if (!display || display === 'none') {{\n",
       "            console.log([gd, 'removed!']);\n",
       "            Plotly.purge(gd);\n",
       "            observer.disconnect();\n",
       "        }}\n",
       "}});\n",
       "\n",
       "// Listen for the removal of the full notebook cells\n",
       "var notebookContainer = gd.closest('#notebook-container');\n",
       "if (notebookContainer) {{\n",
       "    x.observe(notebookContainer, {childList: true});\n",
       "}}\n",
       "\n",
       "// Listen for the clearing of the current output cell\n",
       "var outputEl = gd.closest('.output');\n",
       "if (outputEl) {{\n",
       "    x.observe(outputEl, {childList: true});\n",
       "}}\n",
       "\n",
       "                        })\n",
       "                };\n",
       "                });\n",
       "            </script>\n",
       "        </div>"
      ]
     },
     "metadata": {},
     "output_type": "display_data"
    }
   ],
   "source": [
    "# test '40 Berkeley Hostel'\n",
    "get_hotel_tone('40 Berkeley Hostel')"
   ]
  },
  {
   "cell_type": "code",
   "execution_count": 17,
   "metadata": {
    "scrolled": false
   },
   "outputs": [
    {
     "data": {
      "application/vnd.plotly.v1+json": {
       "config": {
        "linkText": "Export to plot.ly",
        "plotlyServerURL": "https://plot.ly",
        "showLink": false
       },
       "data": [
        {
         "name": "Review Text Tones",
         "type": "bar",
         "uid": "ad7b045f-4796-4dec-ad1d-6973345a1324",
         "x": [
          "name",
          "anger",
          "fear",
          "joy",
          "sadness",
          "analytical",
          "confident"
         ],
         "y": [
          "La Quinta",
          0,
          0,
          0.691525,
          0.614444,
          0.5330189999999999,
          0.971165
         ]
        },
        {
         "name": "Review Title Tones",
         "type": "bar",
         "uid": "ca02056b-783b-4361-bb4a-66ddfa702618",
         "x": [
          "name",
          "anger",
          "fear",
          "joy",
          "sadness",
          "analytical",
          "confident"
         ],
         "y": [
          0.5648850000000001,
          0,
          0,
          0.782623,
          0,
          0,
          0,
          0
         ]
        }
       ],
       "layout": {
        "barmode": "group"
       }
      },
      "text/html": [
       "<div>\n",
       "        \n",
       "        \n",
       "            <div id=\"74ddd0cf-25fd-45a9-8151-acb0d108e2e3\" class=\"plotly-graph-div\" style=\"height:525px; width:100%;\"></div>\n",
       "            <script type=\"text/javascript\">\n",
       "                require([\"plotly\"], function(Plotly) {\n",
       "                    window.PLOTLYENV=window.PLOTLYENV || {};\n",
       "                    window.PLOTLYENV.BASE_URL='https://plot.ly';\n",
       "                    \n",
       "                if (document.getElementById(\"74ddd0cf-25fd-45a9-8151-acb0d108e2e3\")) {\n",
       "                    Plotly.newPlot(\n",
       "                        '74ddd0cf-25fd-45a9-8151-acb0d108e2e3',\n",
       "                        [{\"name\": \"Review Text Tones\", \"type\": \"bar\", \"uid\": \"ad7b045f-4796-4dec-ad1d-6973345a1324\", \"x\": [\"name\", \"anger\", \"fear\", \"joy\", \"sadness\", \"analytical\", \"confident\"], \"y\": [\"La Quinta\", 0.0, 0.0, 0.691525, 0.614444, 0.5330189999999999, 0.971165]}, {\"name\": \"Review Title Tones\", \"type\": \"bar\", \"uid\": \"ca02056b-783b-4361-bb4a-66ddfa702618\", \"x\": [\"name\", \"anger\", \"fear\", \"joy\", \"sadness\", \"analytical\", \"confident\"], \"y\": [0.5648850000000001, 0.0, 0.0, 0.782623, 0.0, 0.0, 0.0, 0.0]}],\n",
       "                        {\"barmode\": \"group\"},\n",
       "                        {\"showLink\": false, \"linkText\": \"Export to plot.ly\", \"plotlyServerURL\": \"https://plot.ly\", \"responsive\": true}\n",
       "                    ).then(function(){\n",
       "                            \n",
       "var gd = document.getElementById('74ddd0cf-25fd-45a9-8151-acb0d108e2e3');\n",
       "var x = new MutationObserver(function (mutations, observer) {{\n",
       "        var display = window.getComputedStyle(gd).display;\n",
       "        if (!display || display === 'none') {{\n",
       "            console.log([gd, 'removed!']);\n",
       "            Plotly.purge(gd);\n",
       "            observer.disconnect();\n",
       "        }}\n",
       "}});\n",
       "\n",
       "// Listen for the removal of the full notebook cells\n",
       "var notebookContainer = gd.closest('#notebook-container');\n",
       "if (notebookContainer) {{\n",
       "    x.observe(notebookContainer, {childList: true});\n",
       "}}\n",
       "\n",
       "// Listen for the clearing of the current output cell\n",
       "var outputEl = gd.closest('.output');\n",
       "if (outputEl) {{\n",
       "    x.observe(outputEl, {childList: true});\n",
       "}}\n",
       "\n",
       "                        })\n",
       "                };\n",
       "                });\n",
       "            </script>\n",
       "        </div>"
      ]
     },
     "metadata": {},
     "output_type": "display_data"
    }
   ],
   "source": [
    "# test 'La Quinta'\n",
    "get_hotel_tone('La Quinta')"
   ]
  },
  {
   "cell_type": "markdown",
   "metadata": {},
   "source": [
    ">As we mentioned above, we have calculated review title tones to see how much it reflects the tones in the text of reviews.\n",
    "\n",
    ">We can see in cases like `40 Berkeley Hostel` with almost 160 reviews, there is no significant difference between reviews text tones and reviews title tones.\n",
    "\n",
    ">For `La Quinta` hotel with 7 reviews, the reviews title tones are different than reviews text tones."
   ]
  },
  {
   "cell_type": "code",
   "execution_count": null,
   "metadata": {},
   "outputs": [],
   "source": []
  }
 ],
 "metadata": {
  "kernelspec": {
   "display_name": "Python 3",
   "language": "python",
   "name": "python3"
  },
  "language_info": {
   "codemirror_mode": {
    "name": "ipython",
    "version": 3
   },
   "file_extension": ".py",
   "mimetype": "text/x-python",
   "name": "python",
   "nbconvert_exporter": "python",
   "pygments_lexer": "ipython3",
   "version": "3.6.5"
  }
 },
 "nbformat": 4,
 "nbformat_minor": 2
}
